{
 "cells": [
  {
   "cell_type": "code",
   "execution_count": 5,
   "id": "4f73c058",
   "metadata": {},
   "outputs": [],
   "source": [
    "from sklearn.svm import SVC\n",
    "import numpy as np\n",
    "\n",
    "from art.attacks.evasion import FastGradientMethod\n",
    "from art.estimators.classification import SklearnClassifier\n",
    "from art.utils import load_mnist"
   ]
  },
  {
   "cell_type": "markdown",
   "id": "e4cb84fd",
   "metadata": {},
   "source": [
    "# Step 1: Load the MNIST dataset"
   ]
  },
  {
   "cell_type": "code",
   "execution_count": 6,
   "id": "ad25778b",
   "metadata": {},
   "outputs": [
    {
     "name": "stdout",
     "output_type": "stream",
     "text": [
      "(60000, 784) (60000, 10)\n",
      "(10000, 784) (10000, 10)\n"
     ]
    }
   ],
   "source": [
    "(x_train, y_train), (x_test, y_test), min_pixel_value, max_pixel_value = load_mnist()\n",
    "\n",
    "# Step 1a: Flatten dataset\n",
    "\n",
    "nb_samples_train = x_train.shape[0]\n",
    "nb_samples_test = x_test.shape[0]\n",
    "x_train = x_train.reshape((nb_samples_train, 28 * 28))\n",
    "x_test = x_test.reshape((nb_samples_test, 28 * 28))\n",
    "\n",
    "print(x_train.shape, y_train.shape)\n",
    "print(x_test.shape, y_test.shape)"
   ]
  },
  {
   "cell_type": "code",
   "execution_count": 4,
   "id": "23336c59",
   "metadata": {},
   "outputs": [
    {
     "name": "stdout",
     "output_type": "stream",
     "text": [
      "[[0. 0. 0. 0. 0. 0. 0. 1. 0. 0.]\n",
      " [0. 0. 1. 0. 0. 0. 0. 0. 0. 0.]\n",
      " [0. 1. 0. 0. 0. 0. 0. 0. 0. 0.]\n",
      " [1. 0. 0. 0. 0. 0. 0. 0. 0. 0.]\n",
      " [0. 0. 0. 0. 1. 0. 0. 0. 0. 0.]]\n"
     ]
    }
   ],
   "source": [
    "print(y_test[0:5])"
   ]
  },
  {
   "cell_type": "markdown",
   "id": "581b3ee4",
   "metadata": {},
   "source": [
    "# Step 2: Create the model"
   ]
  },
  {
   "cell_type": "code",
   "execution_count": null,
   "id": "2fb391ef",
   "metadata": {},
   "outputs": [],
   "source": [
    "model = SVC(C=1.0, kernel=\"rbf\")\n",
    "\n",
    "# Step 3: Create the ART classifier\n",
    "classifier = SklearnClassifier(model=model, \n",
    "                               clip_values=(min_pixel_value, max_pixel_value))\n",
    "\n",
    "# Step 4: Train the ART classifier\n",
    "classifier.fit(x_train, y_train)"
   ]
  },
  {
   "cell_type": "markdown",
   "id": "ae5dd943",
   "metadata": {},
   "source": [
    "# Step 5: Evaluate the ART classifier on benign test examples"
   ]
  },
  {
   "cell_type": "code",
   "execution_count": 5,
   "id": "85ee65c6",
   "metadata": {},
   "outputs": [
    {
     "name": "stdout",
     "output_type": "stream",
     "text": [
      "Accuracy on benign test examples: 97.92%\n"
     ]
    }
   ],
   "source": [
    "predictions = classifier.predict(x_test)\n",
    "accuracy = np.sum(np.argmax(predictions, axis=1) == np.argmax(y_test, axis=1)) / len(y_test)\n",
    "print(\"Accuracy on benign test examples: {}%\".format(accuracy * 100))"
   ]
  },
  {
   "cell_type": "markdown",
   "id": "c402414a",
   "metadata": {},
   "source": [
    "# Step 6: Generate adversarial test examples"
   ]
  },
  {
   "cell_type": "code",
   "execution_count": null,
   "id": "00722e87",
   "metadata": {},
   "outputs": [],
   "source": [
    "attack = FastGradientMethod(estimator=classifier, eps=0.2)\n",
    "x_test_adv = attack.generate(x=x_test)"
   ]
  },
  {
   "cell_type": "markdown",
   "id": "becfcfa4",
   "metadata": {},
   "source": [
    "# Step 7: Evaluate the ART classifier on adversarial test examples"
   ]
  },
  {
   "cell_type": "code",
   "execution_count": null,
   "id": "622a84fc",
   "metadata": {},
   "outputs": [],
   "source": [
    "predictions = classifier.predict(x_test_adv)\n",
    "accuracy = np.sum(np.argmax(predictions, axis=1) == np.argmax(y_test, axis=1)) / len(y_test)\n",
    "print(\"Accuracy on adversarial test examples: {}%\".format(accuracy * 100))"
   ]
  }
 ],
 "metadata": {
  "kernelspec": {
   "display_name": "Python 3",
   "language": "python",
   "name": "python3"
  },
  "language_info": {
   "codemirror_mode": {
    "name": "ipython",
    "version": 3
   },
   "file_extension": ".py",
   "mimetype": "text/x-python",
   "name": "python",
   "nbconvert_exporter": "python",
   "pygments_lexer": "ipython3",
   "version": "3.9.13"
  }
 },
 "nbformat": 4,
 "nbformat_minor": 5
}
