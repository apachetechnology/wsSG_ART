{
 "cells": [
  {
   "cell_type": "markdown",
   "id": "5f79bd43",
   "metadata": {},
   "source": [
    "# Techniques and metrics for evasion attack mitigation\n",
    "    August 14 2025"
   ]
  },
  {
   "cell_type": "code",
   "execution_count": 24,
   "id": "d2e1fa4f",
   "metadata": {},
   "outputs": [],
   "source": [
    "import numpy as np\n",
    "\n",
    "from sklearn.datasets import load_wine\n",
    "from sklearn.model_selection import train_test_split\n",
    "from sklearn.preprocessing import StandardScaler\n",
    "from sklearn.preprocessing import OneHotEncoder\n",
    "\n",
    "from sklearn.ensemble import RandomForestClassifier\n",
    "from sklearn.svm import SVC\n",
    "\n",
    "from art.estimators.classification import SklearnClassifier\n",
    "from art.attacks.evasion import FastGradientMethod"
   ]
  },
  {
   "cell_type": "markdown",
   "id": "9deccdf8",
   "metadata": {},
   "source": [
    "# Step 1: Load dataset"
   ]
  },
  {
   "cell_type": "code",
   "execution_count": 25,
   "id": "bb1a6b5a",
   "metadata": {},
   "outputs": [
    {
     "name": "stdout",
     "output_type": "stream",
     "text": [
      "Training Data: (142, 13) (142, 1)\n",
      "Training Data: (36, 13) (36, 1)\n"
     ]
    }
   ],
   "source": [
    "data = load_wine()\n",
    "X, y = data.data, data.target\n",
    "\n",
    "# Standardize features for stability\n",
    "scaler = StandardScaler()\n",
    "X = scaler.fit_transform(X)\n",
    "\n",
    "# Train-test split\n",
    "X_train, X_test, y_train, y_test = train_test_split(X, y, \n",
    "                                                    test_size=0.2, \n",
    "                                                    random_state=42)\n",
    "y_train = y_train.reshape(-1, 1)\n",
    "y_test = y_test.reshape(-1, 1)\n",
    "\n",
    "print('Training Data:', X_train.shape, y_train.shape)\n",
    "print('Training Data:', X_test.shape, y_test.shape)"
   ]
  },
  {
   "cell_type": "code",
   "execution_count": 26,
   "id": "80a2a6e9",
   "metadata": {},
   "outputs": [
    {
     "name": "stdout",
     "output_type": "stream",
     "text": [
      "[[2]\n",
      " [2]\n",
      " [1]\n",
      " [2]\n",
      " [0]]\n",
      "[[0. 0. 1.]\n",
      " [0. 0. 1.]\n",
      " [0. 1. 0.]\n",
      " [0. 0. 1.]\n",
      " [1. 0. 0.]]\n"
     ]
    }
   ],
   "source": [
    "enc = OneHotEncoder()\n",
    "# Training\n",
    "enc.fit(y_train)  \n",
    "y_train_cat = enc.transform(y_train).toarray()\n",
    "\n",
    "# Training\n",
    "enc.fit(y_test)  \n",
    "y_test_cat = enc.transform(y_test).toarray()\n",
    "\n",
    "print(y_train[0:5])\n",
    "print(y_train_cat[0:5])"
   ]
  },
  {
   "cell_type": "markdown",
   "id": "8bc41c81",
   "metadata": {},
   "source": [
    "# Step 2: Train a simple classifier"
   ]
  },
  {
   "cell_type": "code",
   "execution_count": 27,
   "id": "430617f0",
   "metadata": {},
   "outputs": [],
   "source": [
    "model = RandomForestClassifier(n_estimators=100, random_state=42)\n",
    "model = SVC(C=1.0, kernel=\"rbf\")"
   ]
  },
  {
   "cell_type": "code",
   "execution_count": 28,
   "id": "fabf1f0b",
   "metadata": {},
   "outputs": [
    {
     "name": "stdout",
     "output_type": "stream",
     "text": [
      "Accuracy on clean test set: 1.0000\n"
     ]
    },
    {
     "name": "stderr",
     "output_type": "stream",
     "text": [
      "c:\\Users\\admin\\AppData\\Local\\Programs\\Python\\Python39\\lib\\site-packages\\sklearn\\utils\\validation.py:1111: DataConversionWarning: A column-vector y was passed when a 1d array was expected. Please change the shape of y to (n_samples, ), for example using ravel().\n",
      "  y = column_or_1d(y, warn=True)\n"
     ]
    }
   ],
   "source": [
    "model.fit(X_train, y_train)\n",
    "\n",
    "# Evaluate on clean test set\n",
    "acc_clean = model.score(X_test, y_test)\n",
    "print(f\"Accuracy on clean test set: {acc_clean:.4f}\")"
   ]
  },
  {
   "cell_type": "markdown",
   "id": "d56180d1",
   "metadata": {},
   "source": [
    "# Step 3: Wrap model for ART"
   ]
  },
  {
   "cell_type": "code",
   "execution_count": 29,
   "id": "0240c754",
   "metadata": {},
   "outputs": [
    {
     "name": "stdout",
     "output_type": "stream",
     "text": [
      "Accuracy on benign test examples: 100.0%\n"
     ]
    }
   ],
   "source": [
    "classifier = SklearnClassifier(model=model)\n",
    "\n",
    "classifier.fit(X_train, y_train_cat)\n",
    "\n",
    "predictions = classifier.predict(X_test)\n",
    "accuracy = np.sum(np.argmax(predictions, axis=1) == np.argmax(y_test_cat, axis=1)) / len(y_test_cat)\n",
    "print(\"Accuracy on benign test examples: {}%\".format(accuracy * 100))"
   ]
  },
  {
   "cell_type": "markdown",
   "id": "a3183264",
   "metadata": {},
   "source": [
    "# Step 4: Create adversarial attack (FGSM)"
   ]
  },
  {
   "cell_type": "code",
   "execution_count": 30,
   "id": "1f5b2dad",
   "metadata": {},
   "outputs": [],
   "source": [
    "attack = FastGradientMethod(estimator=classifier, eps=0.1)"
   ]
  },
  {
   "cell_type": "markdown",
   "id": "2102309d",
   "metadata": {},
   "source": [
    "# Step 5: Generate adversarial examples"
   ]
  },
  {
   "cell_type": "code",
   "execution_count": 31,
   "id": "369a00aa",
   "metadata": {},
   "outputs": [],
   "source": [
    "X_test_adv = attack.generate(x=X_test)"
   ]
  },
  {
   "cell_type": "markdown",
   "id": "9e99ceac",
   "metadata": {},
   "source": [
    "# Step 6: Evaluate on adversarial set"
   ]
  },
  {
   "cell_type": "code",
   "execution_count": 32,
   "id": "d7f8197d",
   "metadata": {},
   "outputs": [
    {
     "name": "stdout",
     "output_type": "stream",
     "text": [
      "Accuracy on adversarial test set: 0.9722\n",
      "\n",
      "Original sample (first row): [ 0.78980621  0.68550197  0.70724686 -1.28970717  1.14155847  0.64876424\n",
      "  1.00469996 -1.54592178  0.12107098  0.01812906  0.01119018  1.05695159\n",
      "  0.3124203 ]\n",
      "Adversarial sample (first row): [ 0.6898062   0.78550196  0.80724686 -1.1897072   1.2415584   0.5487642\n",
      "  0.9047     -1.6459218   0.02107098 -0.08187094 -0.08880982  0.9569516\n",
      "  0.21242031]\n"
     ]
    }
   ],
   "source": [
    "acc_adv = model.score(X_test_adv, y_test)\n",
    "print(f\"Accuracy on adversarial test set: {acc_adv:.4f}\")\n",
    "\n",
    "# Optional: Compare a few original vs adversarial samples\n",
    "print(\"\\nOriginal sample (first row):\", X_test[0])\n",
    "print(\"Adversarial sample (first row):\", X_test_adv[0])"
   ]
  }
 ],
 "metadata": {
  "kernelspec": {
   "display_name": "Python 3",
   "language": "python",
   "name": "python3"
  },
  "language_info": {
   "codemirror_mode": {
    "name": "ipython",
    "version": 3
   },
   "file_extension": ".py",
   "mimetype": "text/x-python",
   "name": "python",
   "nbconvert_exporter": "python",
   "pygments_lexer": "ipython3",
   "version": "3.9.13"
  }
 },
 "nbformat": 4,
 "nbformat_minor": 5
}
