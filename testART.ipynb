{
 "cells": [
  {
   "cell_type": "code",
   "execution_count": null,
   "metadata": {},
   "outputs": [],
   "source": [
    "import numpy as np\n",
    "import pandas as pd\n",
    "\n",
    "import tensorflow as tf\n",
    "tf.compat.v1.disable_eager_execution()\n",
    "\n",
    "from keras.models import load_model\n",
    "from keras.models import Sequential\n",
    "from keras.layers import Dense, Flatten, Conv2D, MaxPooling2D\n",
    "from keras.losses import categorical_crossentropy\n",
    "from keras.optimizers.legacy import Adam\n",
    "\n",
    "from art import config\n",
    "from art.utils import load_dataset, get_file\n",
    "from art.estimators.classification import KerasClassifier\n",
    "from art.attacks.evasion import FastGradientMethod, BasicIterativeMethod, ProjectedGradientDescent\n",
    "from art.defences.trainer import AdversarialTrainer\n",
    "\n",
    "def BuiltModel(bArt):\n",
    "    (x_train, y_train), (x_test, y_test), min_, max_ = load_dataset('mnist')\n",
    "    print(x_train.shape, y_train.shape)\n",
    "\n",
    "    aModel = Sequential()\n",
    "    aModel.add(Conv2D(filters=32, kernel_size=(3, 3), \n",
    "                                strides=1, activation=\"relu\", \n",
    "                                input_shape=(28, 28, 1)))\n",
    "    aModel.add(MaxPooling2D(pool_size=(2, 2)))\n",
    "    aModel.add(Conv2D(filters=64, kernel_size=(3, 3), \n",
    "                                strides=1, activation=\"relu\", \n",
    "                                input_shape=(23, 23, 4)))\n",
    "    aModel.add(MaxPooling2D(pool_size=(2, 2)))\n",
    "    aModel.add(Flatten())\n",
    "    aModel.add(Dense(128, activation=\"relu\"))\n",
    "    aModel.add(Dense(10, activation=\"softmax\"))\n",
    "\n",
    "    aModel.compile(loss=categorical_crossentropy, \n",
    "                            optimizer=Adam(learning_rate=1e-4), \n",
    "                            metrics=[\"accuracy\"])\n",
    "\n",
    "    aModel.summary()\n",
    "\n",
    "    if bArt:\n",
    "        classifier = KerasClassifier(clip_values=(min_, max_), model=aModel, use_logits=False)\n",
    "        classifier.fit(x_train, y_train, nb_epochs=10, batch_size=128, verbose=1)\n",
    "        #classifier.model.save(\"./mnist_cnn_original.h5\")\n",
    "    else:\n",
    "        aBatchSz = 128        \n",
    "        aEpochs = 1\n",
    "        hist = aModel.fit(x_train, y_train, \n",
    "                  batch_size=aBatchSz, \n",
    "                  epochs=aEpochs, \n",
    "                  validation_split=0.1, \n",
    "                  verbose=1)\n",
    "        \n",
    "        losses = pd.DataFrame(aModel.history.history)\n",
    "        losses[['loss','val_loss']].plot()\n",
    "        losses[['accuracy','val_accuracy']].plot()\n"
   ]
  },
  {
   "cell_type": "code",
   "execution_count": null,
   "metadata": {},
   "outputs": [],
   "source": [
    "BuiltModel(False)"
   ]
  }
 ],
 "metadata": {
  "kernelspec": {
   "display_name": "Python 3",
   "language": "python",
   "name": "python3"
  },
  "language_info": {
   "codemirror_mode": {
    "name": "ipython",
    "version": 3
   },
   "file_extension": ".py",
   "mimetype": "text/x-python",
   "name": "python",
   "nbconvert_exporter": "python",
   "pygments_lexer": "ipython3",
   "version": "3.9.0"
  }
 },
 "nbformat": 4,
 "nbformat_minor": 2
}
